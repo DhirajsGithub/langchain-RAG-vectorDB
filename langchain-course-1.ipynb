{
 "cells": [
  {
   "cell_type": "code",
   "execution_count": 4,
   "id": "9b15a64b",
   "metadata": {},
   "outputs": [],
   "source": [
    "from secrets_file import GEMINI_KEY"
   ]
  },
  {
   "cell_type": "code",
   "execution_count": 5,
   "id": "cba29d62",
   "metadata": {},
   "outputs": [],
   "source": [
    "from langchain_google_genai import ChatGoogleGenerativeAI\n",
    "llm = ChatGoogleGenerativeAI(\n",
    "    model=\"gemini-2.0-flash\",\n",
    "    google_api_key=GEMINI_KEY,\n",
    "    temperature=0.6,\n",
    "    max_tokens=None,\n",
    "    timeout=None,\n",
    "    max_retries=2,\n",
    ")\n"
   ]
  },
  {
   "cell_type": "code",
   "execution_count": 7,
   "id": "6bde9ba4",
   "metadata": {},
   "outputs": [
    {
     "data": {
      "text/plain": [
       "'Here are some menu item suggestions for a restaurant called \"Celestial Dragon\", keeping in mind a likely Asian-inspired theme:\\n\\n**Appetizers:**\\n\\nDragon\\'s Breath Dumplings,Phoenix Tears Soup,Cloud Nine Spring Rolls,Jade Emperor\\'s Edamame,Cosmic Calamari,Starlight Seaweed Salad\\n\\n**Main Courses:**\\n\\nCelestial Dragon Noodles,Emperor\\'s Fried Rice,Galaxy Glazed Salmon,Nebula Beef Stir-Fry,Comet Chicken Curry,Lunar Lobster,Stardust Scallops,Black Hole Beef Tenderloin,Zen Garden Vegetarian Delight\\n\\n**Desserts:**\\n\\nMilky Way Mochi,Moonbeam Mango Pudding,Shooting Star Sorbet,Dragon Fruit Delight,Cosmic Coconut Cream Pie\\n\\n**Drinks:**\\n\\nCelestial Sunrise Cocktail,Dragon\\'s Blood Elixir,Milky Way Martini,Comet Cooler,Zen Garden Green Tea'"
      ]
     },
     "execution_count": 7,
     "metadata": {},
     "output_type": "execute_result"
    }
   ],
   "source": [
    "from langchain.prompts import PromptTemplate\n",
    "from langchain.chains import LLMChain\n",
    "from langchain.chains import SimpleSequentialChain\n",
    "\n",
    "\n",
    "prompt_template_name = PromptTemplate(\n",
    "    input_variables=['cuisine'],\n",
    "    template= 'I want to open restuarnt for {cuisine} food. Suggest one fency name for this only a name that\\'s it !!!'\n",
    ")\n",
    "\n",
    "name_chain = LLMChain(llm=llm, prompt=prompt_template_name)\n",
    "\n",
    "prompt_template_menu = PromptTemplate(\n",
    "    input_variables=['resturant_name'],\n",
    "    template= \"\"\"Suggest some menu items for {resturant_name}. Return it as comma separated list\"\"\"\n",
    ")\n",
    "\n",
    "menu_chain = LLMChain(llm=llm, prompt=prompt_template_menu)\n",
    "\n",
    "# simple sequential chain will only give you one output\n",
    "\n",
    "chain = SimpleSequentialChain(chains=[name_chain, menu_chain])\n",
    "\n",
    "chain.run('Chinese')"
   ]
  },
  {
   "cell_type": "code",
   "execution_count": 8,
   "id": "8ae8b987",
   "metadata": {},
   "outputs": [
    {
     "name": "stderr",
     "output_type": "stream",
     "text": [
      "/var/folders/gn/p_qvkw0s1bxc8zjhdjn5cxrr0000gn/T/ipykernel_50492/1638660101.py:22: LangChainDeprecationWarning: The method `Chain.__call__` was deprecated in langchain 0.1.0 and will be removed in 1.0. Use :meth:`~invoke` instead.\n",
      "  chain({'cuisine': \"Indian\"})\n"
     ]
    },
    {
     "data": {
      "text/plain": [
       "{'cuisine': 'Indian',\n",
       " 'resturant_name': '**\"Suvarnam\"** (Sanskrit for \"Golden\")',\n",
       " 'menu_items': 'Suvarna Korma, Golden Beetroot Tikki, Haldi-Infused Chicken Tikka, Swarna Mahal Biryani, Saffron Rice Pudding, Golden Lentil Soup, Turmeric Roasted Vegetables, Mango Lassi with Saffron, Ghee-Roasted Paneer, Coconut and Turmeric Fish Curry'}"
      ]
     },
     "execution_count": 8,
     "metadata": {},
     "output_type": "execute_result"
    }
   ],
   "source": [
    "# sequential chain can have multiple inputs multiple outputs\n",
    "from langchain.chains import SequentialChain, LLMChain\n",
    "\n",
    "prompt_template_name = PromptTemplate(\n",
    "    input_variables=['cuisine'],\n",
    "    template=\"\"\"I want to open a restaurant for {cuisine} food. Suggest ONE fancy name for this only.\"\"\"\n",
    ")\n",
    "name_chain = LLMChain(llm=llm, prompt=prompt_template_name, output_key=\"resturant_name\")\n",
    "\n",
    "prompt_template_items = PromptTemplate(\n",
    "    input_variables=['resturant_name'],\n",
    "    template=\"\"\"Suggest some menu items for {resturant_name} comma seperated inlude only menu item names\"\"\"\n",
    ")\n",
    "\n",
    "food_items_chain = LLMChain(llm=llm, prompt=prompt_template_items, output_key=\"menu_items\")\n",
    "\n",
    "chain = SequentialChain(\n",
    "    chains = [name_chain, food_items_chain],\n",
    "    input_variables = ['cuisine'],\n",
    "    output_variables = ['resturant_name', 'menu_items']\n",
    ")\n",
    "chain({'cuisine': \"Indian\"})\n"
   ]
  },
  {
   "cell_type": "markdown",
   "id": "63e87a04",
   "metadata": {},
   "source": [
    "### Agents"
   ]
  },
  {
   "cell_type": "code",
   "execution_count": null,
   "id": "824831ea",
   "metadata": {},
   "outputs": [
    {
     "name": "stdout",
     "output_type": "stream",
     "text": [
      "\n",
      "\n",
      "\u001b[1m> Entering new AgentExecutor chain...\u001b[0m\n",
      "\u001b[32;1m\u001b[1;3mI need to find Elon Musk's birthdate and then calculate his age in 2025.\n",
      "Action: wikipedia\n",
      "Action Input: Elon Musk\u001b[0m\n",
      "Observation: \u001b[36;1m\u001b[1;3mPage: Elon Musk\n",
      "Summary: Elon Reeve Musk ( EE-lon; born June 28, 1971) is a businessman. He is known for his leadership of Tesla, SpaceX, X (formerly Twitter), and the Department of Government Efficiency (DOGE). Musk has been considered the wealthiest person in the world since 2021; as of May 2025, Forbes estimates his net worth to be US$424.7 billion. \n",
      "Born to a wealthy family in Pretoria, South Africa, Musk emigrated in 1989 to Canada. He received bachelor's degrees from the University of Pennsylvania in 1997 before moving to California, United States, to pursue business ventures. In 1995, Musk co-founded the software company Zip2. Following its sale in 1999, he co-founded X.com, an online payment company that later merged to form PayPal, which was acquired by eBay in 2002. That year, Musk also became an American citizen.\n",
      "In 2002, Musk founded the space technology company SpaceX, becoming its CEO and chief engineer; the company has since led innovations in reusable rockets and commercial spaceflight. Musk joined the automaker Tesla as an early investor in 2004 and became its CEO and product architect in 2008; it has since become a leader in electric vehicles. In 2015, he co-founded OpenAI to advance artificial intelligence research but later left; growing discontent with the organization's direction and their leadership in the AI boom in the 2020s led him to establish xAI. In 2022, he acquired the social network Twitter, implementing significant changes and rebranding it as X in 2023. His other businesses include the neurotechnology company Neuralink, which he co-founded in 2016, and the tunneling company the Boring Company, which he founded in 2017. He was named Time magazine's Person of the Year in 2021.\n",
      "Musk's political activities and views have made him a polarizing figure. He has been criticized for making unscientific and misleading statements, including COVID-19 misinformation and promoting conspiracy theories, and affirming antisemitic, racist, and transphobic comments. His acquisition of Twitter was controversial due to a subsequent increase in hate speech and the spread of misinformation on the service. Musk was the largest donor in the 2024 U.S. presidential election, and is a supporter of global far-right figures, causes, and political parties. In early 2025, he served as senior advisor to United States president Donald Trump and as the de facto head of DOGE. His role in the second Trump administration attracted public backlash, particularly in response to DOGE.\n",
      "\n",
      "\n",
      "\n",
      "Page: Wealth of Elon Musk\n",
      "Summary: Elon Musk is the wealthiest person in the world, with an estimated net worth of US$381 billion as of May 2025, according to the Bloomberg Billionaires Index, and $424.7 billion according to Forbes, primarily from his ownership stakes in Tesla and SpaceX. \n",
      "Having been first listed on the Forbes Billionaires List in 2012, around 75% of Musk's wealth was derived from Tesla stock in November 2020. Describing himself as \"cash poor\", he became the first person in the world to have a net worth above $300 billion a year later. By December 2024, he became the first person to reach a net worth of $400 billion.\n",
      "\n",
      "Page: Elon Musk salute controversy\n",
      "Summary: On January 20, 2025, while speaking at a rally celebrating U.S. president Donald Trump's second inauguration, businessman and political figure Elon Musk twice made a salute interpreted by many as a Nazi or a fascist Roman salute.\n",
      "It was widely condemned as an intentional Nazi salute in Germany, where making such gestures is illegal. The Anti-Defamation League said it was not a Nazi salute, but other Jewish organizations disagreed and condemned the salute. American public opinion was divided on partisan lines as to whether it was a fascist salute. Musk dismissed the accusations of Nazi sympathies, deriding them as \"dirty tricks\" and a \"tired\" attack. Neo-Nazi and white supremacist groups celebrated it as a Nazi salute. Multiple European political parties demanded that Musk be ba\u001b[0m\n",
      "Thought:\u001b[32;1m\u001b[1;3mI have found that Elon Musk was born on June 28, 1971. To calculate his age in 2025, I will subtract his birth year from 2025.\n",
      "\n",
      "2025 - 1971 = 54\n",
      "\n",
      "So, Elon Musk will be 54 years old in 2025.\n",
      "Final Answer: Elon Musk was born on June 28, 1971. He will be 54 years old in 2025.\u001b[0m\n",
      "\n",
      "\u001b[1m> Finished chain.\u001b[0m\n"
     ]
    },
    {
     "data": {
      "text/plain": [
       "'Elon Musk was born on June 28, 1971. He will be 54 years old in 2025.'"
      ]
     },
     "execution_count": 15,
     "metadata": {},
     "output_type": "execute_result"
    }
   ],
   "source": [
    "# Agents\n",
    "from langchain.agents import AgentType, initialize_agent, load_tools\n",
    "# you have to install wikipdeia or any other tool \n",
    "tools = load_tools(['wikipedia'], llm=llm)\n",
    "\n",
    "# A zero shot agent that does a reasoning step before acting.\n",
    "agent = initialize_agent(tools=tools, llm=llm, agent=AgentType.ZERO_SHOT_REACT_DESCRIPTION, verbose=True)\n",
    "# verbose tool --> gives all the steps the llm will take to reach the answer\n",
    "agent.run(\"When was Elon Mask was born ? what is his age in 2025\")"
   ]
  },
  {
   "cell_type": "markdown",
   "id": "ea58238a",
   "metadata": {},
   "source": [
    "### Memory"
   ]
  },
  {
   "cell_type": "code",
   "execution_count": 16,
   "id": "bd5a9eee",
   "metadata": {},
   "outputs": [
    {
     "name": "stdout",
     "output_type": "stream",
     "text": [
      "**La Hacienda de Oro** (The Golden Estate)\n"
     ]
    }
   ],
   "source": [
    "chain = LLMChain(llm = llm, prompt = prompt_template_name)\n",
    "name = chain.run(\"Mexican\")\n",
    "print(name)"
   ]
  },
  {
   "cell_type": "code",
   "execution_count": 17,
   "id": "6a89956c",
   "metadata": {},
   "outputs": [
    {
     "name": "stdout",
     "output_type": "stream",
     "text": [
      "**\"The Spice Route\"**\n"
     ]
    }
   ],
   "source": [
    "chain = LLMChain(llm = llm, prompt = prompt_template_name)\n",
    "name = chain.run(\"Indian\")\n",
    "print(name)"
   ]
  },
  {
   "cell_type": "code",
   "execution_count": 18,
   "id": "387cf948",
   "metadata": {},
   "outputs": [
    {
     "data": {
      "text/plain": [
       "NoneType"
      ]
     },
     "execution_count": 18,
     "metadata": {},
     "output_type": "execute_result"
    }
   ],
   "source": [
    "type(chain.memory)"
   ]
  },
  {
   "cell_type": "code",
   "execution_count": 35,
   "id": "1a77baca",
   "metadata": {},
   "outputs": [
    {
     "name": "stdout",
     "output_type": "stream",
     "text": [
      "**El Corazón de Oro** (The Golden Heart)\n",
      "**\"The Spice Route Atelier\"**\n",
      "Human: Mexican\n",
      "AI: **El Corazón de Oro** (The Golden Heart)\n",
      "Human: Indian\n",
      "AI: **\"The Spice Route Atelier\"**\n"
     ]
    }
   ],
   "source": [
    "from langchain.memory import ConversationBufferMemory\n",
    "memory = ConversationBufferMemory()\n",
    "llm = ChatGoogleGenerativeAI(\n",
    "    model=\"gemini-2.0-flash\",\n",
    "    google_api_key=GEMINI_KEY,\n",
    "    temperature=0.6,\n",
    "    max_tokens=None,\n",
    "    timeout=None,\n",
    "    max_retries=2,\n",
    ")\n",
    "chain = LLMChain(llm=llm, prompt = prompt_template_name, memory=memory)\n",
    "name = chain.run(\"Mexican\")\n",
    "print(name)\n",
    "name = chain.run(\"Indian\")\n",
    "print(name)\n",
    "\n",
    "# chain.memory\n",
    "print(chain.memory.buffer)\n",
    "\n",
    "# problem with ConversationBufferMemory --> grows continuously\n"
   ]
  },
  {
   "cell_type": "code",
   "execution_count": 36,
   "id": "912a9606",
   "metadata": {},
   "outputs": [
    {
     "name": "stdout",
     "output_type": "stream",
     "text": [
      "The following is a friendly conversation between a human and an AI. The AI is talkative and provides lots of specific details from its context. If the AI does not know the answer to a question, it truthfully says it does not know.\n",
      "\n",
      "Current conversation:\n",
      "{history}\n",
      "Human: {input}\n",
      "AI:\n",
      "Human: Who won the first circket world cup \n",
      "AI: The first Cricket World Cup, also known as the Prudential Cup, was held in England in 1975. And to answer your question directly, **West Indies** won the tournament! They defeated Australia in the final at Lord's. It was a pretty exciting match, with Clive Lloyd scoring a brilliant century for the West Indies. Do you want to know more about the tournament, perhaps about some of the other teams or key players? I'd be happy to share what I know!\n",
      "Human: what is 5 + 5\n",
      "AI: 5 + 5 is 10! Is there anything else I can help you calculate? I can do quite a bit, from simple arithmetic to more complex equations, and even some unit conversions if you need them. Just let me know!\n",
      "Human: Who was the captain of winning team\n",
      "AI: Ah, you're asking about the captain of the West Indies team that won the first Cricket World Cup in 1975! That would be the legendary **Clive Lloyd**. He not only captained the team but also played a crucial role in the final match, scoring that magnificent century I mentioned earlier. He was a truly inspirational leader!\n"
     ]
    }
   ],
   "source": [
    "from langchain.chains import ConversationChain\n",
    "llm = ChatGoogleGenerativeAI(\n",
    "    model=\"gemini-2.0-flash\",\n",
    "    google_api_key=GEMINI_KEY,\n",
    "    temperature=0.6,\n",
    "    max_tokens=None,\n",
    "    timeout=None,\n",
    "    max_retries=2,\n",
    ")\n",
    "convo = ConversationChain(llm=llm)\n",
    "\n",
    "print(convo.prompt.template)\n",
    "\n",
    "convo.run(\"Who won the first circket world cup \")\n",
    "\n",
    "convo.run(\"what is 5 + 5\")\n",
    "\n",
    "convo.run(\"Who was the captain of winning team\")\n",
    "\n",
    "print(convo.memory.buffer)"
   ]
  },
  {
   "cell_type": "code",
   "execution_count": null,
   "id": "28ab48d0",
   "metadata": {},
   "outputs": [
    {
     "data": {
      "text/plain": [
       "\"The first ICC World Twenty20, now known as the T20 World Cup, was held in South Africa in 2007. And the winner? India! They beat Pakistan in a thrilling final at the Wanderers Stadium in Johannesburg. I remember reading about how Joginder Sharma bowled that final over and MS Dhoni's captaincy was praised. It was a really exciting tournament and helped popularize the T20 format.\""
      ]
     },
     "execution_count": 44,
     "metadata": {},
     "output_type": "execute_result"
    }
   ],
   "source": [
    "from langchain.memory import ConversationBufferWindowMemory\n",
    "memory = ConversationBufferWindowMemory(k=2)\n",
    "# k = Number of messages to store in buffer. it stores last k message and base on the it response \n",
    "llm = ChatGoogleGenerativeAI(\n",
    "    model=\"gemini-2.0-flash\",\n",
    "    google_api_key=GEMINI_KEY,\n",
    "    temperature=0.6,\n",
    "    max_tokens=None,\n",
    "    timeout=None,\n",
    "    max_retries=2,\n",
    ")\n",
    "convo = ConversationChain(llm = llm, memory=memory)\n",
    "\n",
    "convo.run(\"Who won the first circket world cup T20\")\n"
   ]
  },
  {
   "cell_type": "code",
   "execution_count": 45,
   "id": "b0622845",
   "metadata": {},
   "outputs": [
    {
     "data": {
      "text/plain": [
       "\"5 + 5 equals 10. I can do basic arithmetic calculations. Would you like me to try any other calculations for you? Perhaps something a bit more challenging than addition? I can also do subtraction, multiplication, and division. I can even handle exponents and square roots, although those might take me a fraction of a second longer to compute. Just let me know what you'd like me to calculate!\""
      ]
     },
     "execution_count": 45,
     "metadata": {},
     "output_type": "execute_result"
    }
   ],
   "source": [
    "convo.run(\"What is 5 + 5\")\n"
   ]
  },
  {
   "cell_type": "code",
   "execution_count": 46,
   "id": "53f92e4e",
   "metadata": {},
   "outputs": [
    {
     "data": {
      "text/plain": [
       "\"The captain of the Indian team that won the first T20 World Cup in 2007 was Mahendra Singh Dhoni, often referred to as MS Dhoni. He was a relatively young captain at the time, but his calm demeanor and strategic decisions were widely credited for India's success in that tournament. He went on to become one of India's most successful captains in all formats of cricket.\""
      ]
     },
     "execution_count": 46,
     "metadata": {},
     "output_type": "execute_result"
    }
   ],
   "source": [
    "convo.run(\"Who was the captain of winning team\")\n",
    "# if k = 1 it won't remember the answer for convo.run(\"Who won the first circket world cup T20\")\n",
    "# and would have thrown any bogus statement"
   ]
  },
  {
   "cell_type": "code",
   "execution_count": 49,
   "id": "b8ee864b",
   "metadata": {},
   "outputs": [
    {
     "data": {
      "text/plain": [
       "\"5 - 5 = 0. Subtraction is the arithmetic operation where you find the difference between two numbers. When you subtract a number from itself, the result is always zero. It's the additive identity! I can do more subtraction problems if you'd like. We could even explore negative numbers!\""
      ]
     },
     "execution_count": 49,
     "metadata": {},
     "output_type": "execute_result"
    }
   ],
   "source": [
    "convo.run(\"What is 5 - 5 \")"
   ]
  },
  {
   "cell_type": "code",
   "execution_count": 50,
   "id": "b6f562f6",
   "metadata": {},
   "outputs": [
    {
     "data": {
      "text/plain": [
       "\"5 * 5 = 25. Multiplication is one of the basic mathematical operations, and it's essentially repeated addition. In this case, 5 * 5 is the same as adding 5 to itself 5 times (5 + 5 + 5 + 5 + 5). Want to try some bigger multiplication problems? I can handle exponents too!\""
      ]
     },
     "execution_count": 50,
     "metadata": {},
     "output_type": "execute_result"
    }
   ],
   "source": [
    "convo.run(\"What is 5 * 5 \")"
   ]
  },
  {
   "cell_type": "code",
   "execution_count": 54,
   "id": "20ace508",
   "metadata": {},
   "outputs": [
    {
     "data": {
      "text/plain": [
       "'Alright, I\\'m still a little unsure which \"match\" you\\'re referring to! Since I\\'m designed to be helpful, I\\'ll try one more time to narrow it down:\\n\\n**Possibility 1: You mean \"math\" and are still asking about the multiplication problem.**\\n\\nIn that case, the location is still within my internal processing units. Think of it like this: the calculation happened \"inside my head,\" not in a specific city or building. There\\'s no physical location for it.\\n\\n**Possibility 2: You mean a sporting \"match.\"**\\n\\nIf this is the case, I *really* need more information to help you. I don\\'t have access to a general sports database. Think about the details that would help someone else understand which match you\\'re talking about. For example:\\n\\n*   **Sport:** Was it a baseball game? A soccer match? A tennis tournament?\\n*   **Teams/Players:** Who was playing? Knowing the teams or players involved would be a huge clue.\\n*   **Date/Timeframe:** When did the match happen? Even a general timeframe (e.g., \"last summer,\" \"this past weekend\") would be helpful.\\n\\nWithout more information, I\\'m just guessing, and I\\'d rather not give you an incorrect answer! Please tell me more about the match you\\'re interested in.'"
      ]
     },
     "execution_count": 54,
     "metadata": {},
     "output_type": "execute_result"
    }
   ],
   "source": [
    "convo.run(\"Where was the location of this match \")\n",
    "# bogues response since k=2 it only remeber last 2 messages \n",
    "# 'Okay, just to clarify before I give you an answer I can\\'t provide: Are you asking about a sporting event (a \"match\"), or are you still referring to the \"math\" problem we were discussing earlier?\\n\\nIf you mean a sporting \"match,\" I still don\\'t have any specific information about a particular match. To help me understand, could you provide more details? For example:\\n\\n*   **What kind of match was it?** (e.g., soccer, tennis, chess, etc.)\\n*   **When did it take place?** (e.g., yesterday, last week, a specific date)\\n*   **Who were the participants?** (e.g., specific teams or individuals)\\n\\nWith more information, I might be able to access relevant data and provide you with the location.\\n\\nIf you meant \"math,\" then please remember that the calculation happened within my digital architecture and wasn\\'t held at any physical location.'"
   ]
  },
  {
   "cell_type": "code",
   "execution_count": null,
   "id": "99a669c9",
   "metadata": {},
   "outputs": [],
   "source": []
  }
 ],
 "metadata": {
  "kernelspec": {
   "display_name": "my-venv",
   "language": "python",
   "name": "python3"
  },
  "language_info": {
   "codemirror_mode": {
    "name": "ipython",
    "version": 3
   },
   "file_extension": ".py",
   "mimetype": "text/x-python",
   "name": "python",
   "nbconvert_exporter": "python",
   "pygments_lexer": "ipython3",
   "version": "3.13.1"
  }
 },
 "nbformat": 4,
 "nbformat_minor": 5
}
